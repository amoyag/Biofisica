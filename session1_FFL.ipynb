{
  "cells": [
    {
      "cell_type": "markdown",
      "metadata": {
        "id": "view-in-github",
        "colab_type": "text"
      },
      "source": [
        "<a href=\"https://colab.research.google.com/github/amoyag/Biofisica/blob/private/session1_FFL.ipynb\" target=\"_parent\"><img src=\"https://colab.research.google.com/assets/colab-badge.svg\" alt=\"Open In Colab\"/></a>"
      ]
    },
    {
      "cell_type": "markdown",
      "metadata": {
        "id": "o-4I1P-kiScA"
      },
      "source": [
        "# Introduction to the analysis of biological circuits   \n",
        "\n",
        "## The Feedforward loop\n",
        "\n",
        "A Feedforward Loop (FFL) is a common and important motif found in biological networks, especially in gene regulatory networks. It consists of three elements (such as genes or proteins) and the connections between them, forming a directed network. In an FFL, one element regulates a second, which in turn regulates a third, and additionally, the first element also directly regulates the third. This creates a loop with two pathways from the first to the third element: a direct one and an indirect one that goes through the second element.\n",
        "\n",
        "We will use boolean networks where the relationships (activation or inhibition) between the elements of the circuits are logical functions (AND, OR, NOT). For instance, let's define the following FFL:\n",
        "\n",
        "---\n",
        "    X inhibits Y\n",
        "    Y activates Z\n",
        "    X inhibits Z\n",
        "---\n",
        "The representation of this FFL in .bnet notation (a common format for boolean networks) is:\n",
        "\n",
        "    X, <Boolean function for X>\n",
        "    Y, !X\n",
        "    Z, Y and !X\n",
        "    \n",
        "\n",
        "Based on the description of your feedforward loop (FFL), where X inhibits Y, Y activates Z, and X also inhibits Z, the `.bnet` representation would look like this:\n",
        "\n",
        "```\n",
        "X, <Boolean function for X>\n",
        "Y, !X\n",
        "Z, Y and !X\n",
        "```\n",
        "\n",
        "In this representation:\n",
        "- `X` is a node whose behavior or state is determined by some other factors not specified in the FFL. Therefore, its Boolean function will depend on external inputs or conditions, which is why we have `<Boolean function for X>`. If X is always active or its state is constant, we can replace this with `True` or `False` accordingly.\n",
        "- `Y` is inhibited by `X`, which is represented by `!X`, meaning `Y` is active when `X` is not active.\n",
        "- `Z` is activated by `Y` and inhibited by `X`. The `and` logic in `Y and !X` means that `Z` is active only when `Y` is active and `X` is not active.\n",
        "\n",
        "This setup creates an incoherent type 1 feedforward loop, as the direct regulation (X inhibiting Z) is opposite in effect to the indirect regulation (X inhibiting Y, and Y activating Z).\n",
        "\n",
        "### Types of FFL\n",
        "There are different types of FFLs based on the nature of the regulatory interactions (activation or inhibition). The most common types are:\n",
        "\n",
        "-   Coherent FFL: Where the direct and indirect pathways act in the same way (both activating or both inhibiting) on the target gene.\n",
        "-   Incoherent FFL: Where the direct and indirect pathways have opposite effects on the target gene.\n",
        "\n",
        "FFLs are important in signal transduction because they can filter noise. FFLs, especially the type 1 coherent FFL (C1-FFL), are believed to evolve to filter out short spurious signals. This adaptive feature helps in distinguishing between short-lived noise and sustained signals, contributing to more reliable responses."
      ]
    },
    {
      "cell_type": "markdown",
      "metadata": {
        "collapsed": false,
        "id": "wYKa2faZZeUZ"
      },
      "source": [
        "## Boolean networks\n",
        "Boolean networks are a mathematical model used to represent and analyze complex systems, particularly in fields like biology. They consist of a set of nodes and edges, where each node represents a variable that can take on one of two states: true or false (often represented as 1 or 0). The edges between nodes represent the interactions or logical relationships between these variables.\n",
        "\n",
        "Key characteristics and principles of Boolean networks include:\n",
        "\n",
        "- **Discrete States:** Each node in a Boolean network can only be in one of two states: on (1) or off (0). This binary nature simplifies the modeling of complex systems.\n",
        "- **Update Rules:** Each node's state is determined by a specific Boolean function or rule, which takes the states of its input nodes (neighbors) as arguments. These rules define how the state of each node changes over time.\n",
        "- **Dynamics:** The network evolves over time according to its update rules. This can be done synchronously, where all nodes update their state simultaneously, or asynchronously, where nodes update their state one at a time in a sequential or random order.\n",
        "- **Attractors and State Space:** The evolution of a Boolean network over time leads to certain patterns or attractors in its state space. An attractor can be a stable state (where the network remains constant) or a limit cycle (where the network repeats a sequence of states). The study of these attractors can reveal important behavior and properties of the system.\n",
        "\n",
        "In biological systems, Boolean networks are often used to model gene regulatory networks, where nodes represent genes, and edges represent regulatory interactions. The binary states can represent whether a gene is expressed or not."
      ]
    },
    {
      "cell_type": "markdown",
      "metadata": {
        "collapsed": false,
        "id": "8YAwWGr3ZeUa"
      },
      "source": [
        "## The C1 feed-forward loop\n",
        "### Understanding C1-FFL\n",
        "\n",
        "In a C1-FFL, you have three nodes: X, Y, and Z. X activates Y, and both X and Y are required to activate Z. In Boolean terms:\n",
        "\n",
        "    Y = X\n",
        "    Z = X AND Y\n",
        "\n",
        "This means Z is activated only when both X and Y are active.\n",
        "\n",
        "A FFL exhibits two interesting properties: delay and persisence:\n",
        "- **Delay** refers to the time taken for the output node to respond to a change in the state of the input node. Since Y is directly activated by X, and Z is activated by both X and Y, this loop shows delay because Z requires the activation of both X and Y. Even if X is activated quickly, there is a lag before Y becomes active, and subsequently, Z gets activated. This delay is significant in biological systems for timing the response to stimuli or ensuring that responses only occur under sustained input conditions.\n",
        "- **Persistence** refers to the ability of the output node to maintain its state (usually active) after the input node has reverted to its initial state (usually inactive). This is important in biological systems where a prolonged response is required even after the initial stimulus has ceased. It ensures that the system's response is not just a brief, transient reaction but a more sustained one, appropriate for processes that need more prolonged activation."
      ]
    },
    {
      "cell_type": "markdown",
      "metadata": {
        "collapsed": false,
        "id": "8bYiqplvZeUa"
      },
      "source": [
        "## Work with PyBoolNet"
      ]
    },
    {
      "cell_type": "markdown",
      "metadata": {
        "collapsed": false,
        "id": "aGgrfkzNZeUb"
      },
      "source": [
        "PyBoolNet is a Python package designed for the creation, analysis, and visualization of Boolean networks. The key features of PyBoolNet include:\n",
        "\n",
        "1. **Network Creation and Management:** It allows users to create Boolean networks from various sources, including text files and logical formulas. It also provides functionality to manipulate and manage these networks.\n",
        "\n",
        "2. **Steady State and Attractor Analysis:** PyBoolNet can compute steady states and attractors, which are key concepts in understanding the long-term behavior of a system modeled by a Boolean network.\n",
        "\n",
        "3. **Model Checking and Temporal Logic:** The package includes tools for model checking, which is a method for verifying if a model meets certain specifications. It also supports temporal logic, a formalism used to reason about the behavior of a system over time.\n",
        "\n",
        "4. **Visualization:** PyBoolNet offers capabilities to visually represent Boolean networks and their dynamics, which aids in the interpretation and analysis of the network’s behavior.\n",
        "\n",
        "5. **Integration with Other Tools:** It can interface with other software tools commonly used in systems biology, allowing for a more comprehensive analysis.\n",
        "\n",
        "Overall, PyBoolNet is a valuable tool for researchers and scientists in fields like systems biology, where understanding the dynamics of complex networks is crucial. Its combination of network analysis, model checking, and visualization tools makes it a versatile resource for studying Boolean network models."
      ]
    },
    {
      "cell_type": "markdown",
      "metadata": {
        "collapsed": false,
        "id": "xLQ8HP_VQmK0"
      },
      "source": [
        "## Analyse delay and persistence in a C1 FFL"
      ]
    },
    {
      "cell_type": "markdown",
      "metadata": {
        "collapsed": false,
        "id": "lN5ifc5TQmK1"
      },
      "source": [
        "### Install libraries\n",
        "We need to install the Python modules we want to use in Google Colab."
      ]
    },
    {
      "cell_type": "code",
      "execution_count": 1,
      "metadata": {
        "colab": {
          "base_uri": "https://localhost:8080/"
        },
        "id": "IhONq9KzQmK1",
        "outputId": "c4321c54-8569-4139-f43e-b38f3086fb81"
      },
      "outputs": [
        {
          "output_type": "stream",
          "name": "stdout",
          "text": [
            "Requirement already satisfied: networkx in /usr/local/lib/python3.10/dist-packages (3.4.1)\n",
            "Collecting git+https://github.com/hklarner/pyboolnet\n",
            "  Cloning https://github.com/hklarner/pyboolnet to /tmp/pip-req-build-62tz32w8\n",
            "  Running command git clone --filter=blob:none --quiet https://github.com/hklarner/pyboolnet /tmp/pip-req-build-62tz32w8\n",
            "  Resolved https://github.com/hklarner/pyboolnet to commit 529860bc1185277fb2b5e0f3b36c9ba6c7b9fe2f\n",
            "  Preparing metadata (setup.py) ... \u001b[?25l\u001b[?25hdone\n",
            "Requirement already satisfied: networkx>=2.4 in /usr/local/lib/python3.10/dist-packages (from pyboolnet==3.0.14) (3.4.1)\n",
            "Requirement already satisfied: pytest in /usr/local/lib/python3.10/dist-packages (from pyboolnet==3.0.14) (7.4.4)\n",
            "Requirement already satisfied: click>=8.0.1 in /usr/local/lib/python3.10/dist-packages (from pyboolnet==3.0.14) (8.1.7)\n",
            "Requirement already satisfied: matplotlib>=3.3.3 in /usr/local/lib/python3.10/dist-packages (from pyboolnet==3.0.14) (3.7.1)\n",
            "Requirement already satisfied: contourpy>=1.0.1 in /usr/local/lib/python3.10/dist-packages (from matplotlib>=3.3.3->pyboolnet==3.0.14) (1.3.0)\n",
            "Requirement already satisfied: cycler>=0.10 in /usr/local/lib/python3.10/dist-packages (from matplotlib>=3.3.3->pyboolnet==3.0.14) (0.12.1)\n",
            "Requirement already satisfied: fonttools>=4.22.0 in /usr/local/lib/python3.10/dist-packages (from matplotlib>=3.3.3->pyboolnet==3.0.14) (4.54.1)\n",
            "Requirement already satisfied: kiwisolver>=1.0.1 in /usr/local/lib/python3.10/dist-packages (from matplotlib>=3.3.3->pyboolnet==3.0.14) (1.4.7)\n",
            "Requirement already satisfied: numpy>=1.20 in /usr/local/lib/python3.10/dist-packages (from matplotlib>=3.3.3->pyboolnet==3.0.14) (1.26.4)\n",
            "Requirement already satisfied: packaging>=20.0 in /usr/local/lib/python3.10/dist-packages (from matplotlib>=3.3.3->pyboolnet==3.0.14) (24.1)\n",
            "Requirement already satisfied: pillow>=6.2.0 in /usr/local/lib/python3.10/dist-packages (from matplotlib>=3.3.3->pyboolnet==3.0.14) (10.4.0)\n",
            "Requirement already satisfied: pyparsing>=2.3.1 in /usr/local/lib/python3.10/dist-packages (from matplotlib>=3.3.3->pyboolnet==3.0.14) (3.2.0)\n",
            "Requirement already satisfied: python-dateutil>=2.7 in /usr/local/lib/python3.10/dist-packages (from matplotlib>=3.3.3->pyboolnet==3.0.14) (2.8.2)\n",
            "Requirement already satisfied: iniconfig in /usr/local/lib/python3.10/dist-packages (from pytest->pyboolnet==3.0.14) (2.0.0)\n",
            "Requirement already satisfied: pluggy<2.0,>=0.12 in /usr/local/lib/python3.10/dist-packages (from pytest->pyboolnet==3.0.14) (1.5.0)\n",
            "Requirement already satisfied: exceptiongroup>=1.0.0rc8 in /usr/local/lib/python3.10/dist-packages (from pytest->pyboolnet==3.0.14) (1.2.2)\n",
            "Requirement already satisfied: tomli>=1.0.0 in /usr/local/lib/python3.10/dist-packages (from pytest->pyboolnet==3.0.14) (2.0.2)\n",
            "Requirement already satisfied: six>=1.5 in /usr/local/lib/python3.10/dist-packages (from python-dateutil>=2.7->matplotlib>=3.3.3->pyboolnet==3.0.14) (1.16.0)\n",
            "Building wheels for collected packages: pyboolnet\n",
            "  Building wheel for pyboolnet (setup.py) ... \u001b[?25l\u001b[?25hdone\n",
            "  Created wheel for pyboolnet: filename=pyboolnet-3.0.14-py3-none-any.whl size=6500414 sha256=b31f58671501dce50347db023dd67fa646e37aa0661fbc5eb8cd42630b8ef4b6\n",
            "  Stored in directory: /tmp/pip-ephem-wheel-cache-6kl0r372/wheels/46/0e/ce/ff6a66e82497bff96dab31657d81c773e2a590d2bd7d097e8a\n",
            "Successfully built pyboolnet\n",
            "Installing collected packages: pyboolnet\n",
            "Successfully installed pyboolnet-3.0.14\n"
          ]
        }
      ],
      "source": [
        "!pip3 install networkx\n",
        "!pip3 install git+https://github.com/hklarner/pyboolnet"
      ]
    },
    {
      "cell_type": "markdown",
      "metadata": {
        "collapsed": false,
        "id": "DynX4exkQmK2"
      },
      "source": [
        "### Load python modules"
      ]
    },
    {
      "cell_type": "code",
      "execution_count": 2,
      "metadata": {
        "id": "rR_dDEztQmK2"
      },
      "outputs": [],
      "source": [
        "import pyboolnet\n",
        "import ast\n",
        "from pyboolnet import file_exchange # load and write the network to file\n",
        "from pyboolnet import interaction_graphs as ig # create the networkx graph\n",
        "import networkx as nx\n",
        "import matplotlib.pyplot as plt\n",
        "from pyboolnet import state_transition_graphs as STGs # To get the state transition graphs\n",
        "import random # to choose one succesor state\n",
        "import numpy as np # to analyse the simulation\n",
        "import matplotlib.pyplot as plt # to plot stuff\n",
        "from pyboolnet import attractors as ad # To detect attractors"
      ]
    },
    {
      "cell_type": "markdown",
      "metadata": {
        "collapsed": false,
        "id": "-f0yNOYUQmK2"
      },
      "source": [
        "### Generate the boolean network for the C1 FFL\n",
        "In Python we represent prime implicants as nested dictionaries and lists. The prime implicants of a network with three components v1, v2, v3 and three update functions f1, f2, f3 that are defined by:"
      ]
    },
    {
      "cell_type": "code",
      "execution_count": 3,
      "metadata": {
        "id": "sYgpbTdFQmK2"
      },
      "outputs": [],
      "source": [
        "bnet = \"\"\"\n",
        "X, X           # Input node, always active once set\n",
        "Y, X           # Intermediate node, activated by X\n",
        "Z, X and Y     # Output node, activated by both X and Y\n",
        "\"\"\""
      ]
    },
    {
      "cell_type": "markdown",
      "metadata": {
        "collapsed": false,
        "id": "Dmz_6q7BQmK3"
      },
      "source": [
        "PyBoolNet needs the prime implicants that are a fundamental concept used to represent the state transitions of Boolean networks in a detailed and mathematically rigorous way. They offer a more granular view of how the states of different nodes (or genes) in the network influence each other, compared to simpler representations like truth tables or the `.bnet` format.\n",
        "\n",
        "Here's a breakdown of what prime implicants are and how they function within the context of PyBoolNet and Boolean network analysis:\n",
        "\n",
        "1. **Definition**:\n",
        "   - A prime implicant in the context of Boolean networks is a minimal set of conditions that uniquely determine the state of a node.\n",
        "   - Each prime implicant represents a combination of states of other nodes that will lead to a particular state of the target node.\n",
        "\n",
        "2. **Structure**:\n",
        "   - In PyBoolNet, primes are represented as a dictionary where each key is a node in the network, and the value is a list of prime implicants for that node.\n",
        "   - Each prime implicant is itself a list of dictionaries. Each dictionary represents a unique condition under which the node is active (or inactive).\n",
        "\n",
        "3. **Example**:\n",
        "   - Consider a simple network with two nodes, X and Y, where Y is activated if X is active. The primes might look like this:\n",
        "     ```python\n",
        "     primes = {\n",
        "         'X': [[{'X': 1}], [{'X': 0}]],\n",
        "         'Y': [[{'X': 1}], [{'X': 0}]]\n",
        "     }\n",
        "     ```\n",
        "   - For `X`, the prime `[[{'X': 1}], [{'X': 0}]]` means that X stays in its current state (it's a self-loop).\n",
        "   - For `Y`, the prime `[[{'X': 1}], [{'X': 0}]]` means that Y is active (`1`) when X is active (`{'X': 1}`), and Y is inactive (`0`) when X is inactive (`{'X': 0}`).\n",
        "\n",
        "4. **Use in Analysis**:\n",
        "   - Prime implicants are used in various types of analysis in PyBoolNet, such as computing attractors, creating state transition graphs, and performing model checking.\n",
        "   - They provide a precise and compact way to represent the logic of the network, which is essential for computational analysis.\n",
        "\n",
        "Understanding primes is crucial for effectively using PyBoolNet, as they are key to representing and analyzing the complex relationships in Boolean networks, especially in systems biology and related fields.\n",
        "\n",
        "The following code converts the rules defined in bnet to primes, but it does not interpret the bnet correctly. Run the code and try to guess what is going on."
      ]
    },
    {
      "cell_type": "code",
      "execution_count": 4,
      "metadata": {
        "id": "mCbBcXIlQmK3",
        "colab": {
          "base_uri": "https://localhost:8080/"
        },
        "outputId": "43ba71d6-5597-4a5e-9869-56f26acf1eca"
      },
      "outputs": [
        {
          "output_type": "stream",
          "name": "stdout",
          "text": [
            "\n",
            "X, X           # Input node, always active once set\n",
            "Y, X           # Intermediate node, activated by X\n",
            "Z, X and Y     # Output node, activated by both X and Y\n",
            "\n",
            "{'X': [[{'X': 0}], [{'X': 1}]], 'XandY': [[{'XandY': 0}], [{'XandY': 1}]], 'Y': [[{'X': 0}], [{'X': 1}]], 'Z': [[{'XandY': 0}], [{'XandY': 1}]]}\n"
          ]
        }
      ],
      "source": [
        "print(bnet)\n",
        "primes = file_exchange.bnet2primes(bnet)\n",
        "\n",
        "print(primes)"
      ]
    },
    {
      "cell_type": "markdown",
      "metadata": {
        "collapsed": false,
        "id": "66sLgkghQmK3"
      },
      "source": [
        "We can define the primes as a string and convert them to a dictionary so PyBoolNet can make things right"
      ]
    },
    {
      "cell_type": "code",
      "execution_count": 5,
      "metadata": {
        "id": "DvF2m2khQmK5",
        "colab": {
          "base_uri": "https://localhost:8080/"
        },
        "outputId": "069a5f04-fbf9-47db-ea9c-c1a2381f08f2"
      },
      "outputs": [
        {
          "output_type": "stream",
          "name": "stdout",
          "text": [
            "{'X': [[{'X': 1}], [{'X': 0}]], 'Y': [[{'X': 1}], [{'X': 0}]], 'Z': [[{'X': 1, 'Y': 1}], [{'X': 0}, {'Y': 0}]]}\n"
          ]
        }
      ],
      "source": [
        "# Define the primes as a string\n",
        "primes_string = \"\"\"\n",
        "{\n",
        "    'X': [[{'X': 1}], [{'X': 0}]],\n",
        "    'Y': [[{'X': 1}], [{'X': 0}]],\n",
        "    'Z': [[{'X': 1, 'Y': 1}], [{'X': 0}, {'Y': 0}]]\n",
        "}\n",
        "\"\"\"\n",
        "\n",
        "# Convert the string to a dictionary\n",
        "primes = ast.literal_eval(primes_string)\n",
        "\n",
        "# Now 'primes' is a dictionary that can be used with PyBoolNet\n",
        "\n",
        "print(primes)"
      ]
    },
    {
      "cell_type": "markdown",
      "metadata": {
        "collapsed": false,
        "id": "9JSoImpjQmK5"
      },
      "source": [
        "### Initialize the states of the nodes"
      ]
    },
    {
      "cell_type": "code",
      "execution_count": 6,
      "metadata": {
        "id": "mQd6igB8QmK5"
      },
      "outputs": [],
      "source": [
        "initial_state = {'X': 1, 'Y': 0, 'Z': 0}"
      ]
    },
    {
      "cell_type": "markdown",
      "metadata": {
        "collapsed": false,
        "id": "Z-mtFWVBQmK6"
      },
      "source": [
        "### Define the simulation of the network\n",
        "This establishes the simulation of the network. The simulation is asynchronous, meaning the states of the nodes are updated one by one in a random order."
      ]
    },
    {
      "cell_type": "markdown",
      "source": [
        "La simulación siguiente produce un mapa de calor que muestra que **Z se activa antes que Y**, lo cual parece contrario a lo que esperaríamos en un **coherent feedforward loop (C1-FFL)**, donde se supone que Y debe activarse primero para que Z pueda ser activado. Sin embargo, hay algunas posibles explicaciones para este comportamiento inusual en la simulación:\n",
        "\n",
        "1. **Configuración inicial de los estados**: Si la simulación comenzó con X en un estado activo, es posible que las reglas de actualización asincrónica de la red permitan que Z se active temporalmente antes de que Y alcance su estado estable. En la simulación asincrónica, los nodos pueden actualizarse en diferentes momentos, lo que significa que Z podría ser actualizado antes que Y, aunque ambos dependen de la actividad de X. Esta asincronía puede crear transiciones temporales no intuitivas.\n",
        "\n",
        "2. **Efecto de las transiciones asincrónicas**: En las simulaciones asincrónicas, los estados de los nodos se actualizan en secuencias diferentes, lo que puede llevar a que Z responda a la activación de X sin esperar a que Y se estabilice completamente. Esto puede explicar por qué Z parece activarse antes de Y: debido a la asincronía, las reglas de activación pueden no respetar el orden esperado de las activaciones si los estados se actualizan fuera de secuencia.\n",
        "\n",
        "3. **Simulación booleana sin restricciones de orden**: En una simulación booleana como la que estás utilizando, los estados de los nodos pueden actualizarse de manera algo \"libre\" si no se impone una secuencia de actualización específica. Esto significa que Z puede temporalmente alcanzar un estado activo antes de Y, aunque en una situación biológica real, la secuencia debería ser más estricta.\n",
        "\n",
        "### Posibles soluciones:\n",
        "\n",
        "- **Sincronización en la actualización**: Una solución para obtener un comportamiento más esperado sería realizar la simulación de manera **sincrónica**, donde todos los nodos se actualizan al mismo tiempo en cada paso. Esto podría forzar el orden de activación correcto (X activa Y, y luego X e Y activan Z).\n",
        "\n",
        "- **Semántica de actualización**: Revisa las reglas de actualización del modelo para asegurarte de que reflejan adecuadamente el comportamiento que esperas del circuito.\n",
        "\n",
        "En resumen, el comportamiento observado de Z activándose antes que Y se debe probablemente a las reglas asincrónicas de la simulación que permiten transiciones que no siguen el orden secuencial esperado de las activaciones, pero que podrían corregirse ajustando las reglas de actualización del modelo."
      ],
      "metadata": {
        "id": "72BKPS3hk0AG"
      }
    },
    {
      "cell_type": "code",
      "execution_count": 15,
      "metadata": {
        "id": "UuF0sk1KQmK6"
      },
      "outputs": [],
      "source": [
        "def simulate_network(primes, initial_state, steps):\n",
        "    random.seed(42)  # Fijar la semilla para resultados reproducibles\n",
        "    current_state = initial_state.copy()\n",
        "    history = []\n",
        "\n",
        "    for _ in range(steps):\n",
        "        history.append(current_state.copy())\n",
        "        next_states = STGs.successors_asynchronous(primes, current_state)  # Compute the next possible states, it is a list of possible states each one a dictionary\n",
        "        # Choose one of the possible next states\n",
        "        if next_states:\n",
        "            current_state = random.choice(next_states)\n",
        "        else:\n",
        "            break  # No more transitions possible\n",
        "        #current_state = STGs.successors_asynchronous(primes, current_state)\n",
        "        #current_state = next_state if isinstance(next_state, dict) else dict(next_state) # Update current_state for the next iteration. Make sure current stat is a dictionary as expected by successors_asynchronous\n",
        "\n",
        "\n",
        "    return history"
      ]
    },
    {
      "cell_type": "markdown",
      "source": [
        "Aquí hacemos una simulación sincrónica\n",
        "Para hacer una simulación **sincrónica**, necesitamos actualizar todos los nodos en un paso al mismo tiempo, en lugar de elegir el siguiente estado de manera asincrónica, donde solo se actualiza un nodo por vez. Esto significa que en cada paso de la simulación, todos los nodos cambiarán sus estados simultáneamente en función de los valores actuales.\n",
        "\n",
        "### Explicación:\n",
        "- **Simulación sincrónica**: En lugar de seleccionar aleatoriamente el siguiente estado de un nodo, calculamos el siguiente estado de **todos los nodos simultáneamente** en cada paso.\n",
        "- **Copia del estado actual**: En cada iteración, primero hacemos una copia del estado actual y luego, para cada nodo, evaluamos todas las funciones lógicas (`prime_functions`) para decidir si ese nodo debe estar activo o inactivo en el siguiente paso.\n",
        "- **Condiciones booleanas**: El código evalúa las condiciones booleanas de cada nodo basadas en el estado actual y actualiza el estado del nodo de acuerdo a estas reglas.\n",
        "\n",
        "Esta versión de la simulación garantiza que todos los nodos se actualizan de forma sincrónica en cada paso del ciclo, eliminando así los posibles comportamientos asincrónicos que podrían haber llevado a la activación temprana de Z antes de Y.\n",
        "\n",
        "Puedes probar este código y verificar si ahora obtienes un comportamiento más coherente con la activación esperada del C1-FFL."
      ],
      "metadata": {
        "id": "FNuSWxLNlMGG"
      }
    },
    {
      "cell_type": "code",
      "source": [
        "def simulate_network_synchronous(primes, initial_state, steps):\n",
        "    random.seed(42)  # Fijar la semilla para resultados reproducibles\n",
        "    current_state = initial_state.copy()\n",
        "    history = []\n",
        "\n",
        "    for _ in range(steps):\n",
        "        history.append(current_state.copy())\n",
        "\n",
        "        # Definir el siguiente estado de manera sincrónica\n",
        "        next_state = current_state.copy()  # Creamos una copia del estado actual\n",
        "\n",
        "        # Iteramos sobre cada nodo (X, Y, Z) y actualizamos sus valores simultáneamente\n",
        "        for node, transitions in primes.items():\n",
        "            # Cada nodo tiene una lista de posibles transiciones\n",
        "            activated = False\n",
        "            for condition in transitions[0]:  # transitions[0] es el conjunto de condiciones para activación (valor 1)\n",
        "                if all(current_state.get(var, 0) == value for var, value in condition.items()):\n",
        "                    next_state[node] = 1\n",
        "                    activated = True\n",
        "                    break\n",
        "\n",
        "            if not activated:\n",
        "                # transitions[1] es el conjunto de condiciones para inactivación (valor 0)\n",
        "                for condition in transitions[1]:\n",
        "                    if all(current_state.get(var, 0) == value for var, value in condition.items()):\n",
        "                        next_state[node] = 0\n",
        "                        break\n",
        "\n",
        "        current_state = next_state  # Actualizamos el estado actual para la siguiente iteración\n",
        "\n",
        "    return history\n"
      ],
      "metadata": {
        "id": "BRLVafquclpd"
      },
      "execution_count": 21,
      "outputs": []
    },
    {
      "cell_type": "markdown",
      "source": [
        "Ahora añadimos una desactivación de X para mostrar que Z se desactiva rápido."
      ],
      "metadata": {
        "id": "gzMeVde8lhFs"
      }
    },
    {
      "cell_type": "code",
      "source": [
        "def simulate_network_synchronous_with_X_toggle(primes, initial_state, steps):\n",
        "    random.seed(42)  # Fijar la semilla para resultados reproducibles\n",
        "    current_state = initial_state.copy()\n",
        "    history = []\n",
        "\n",
        "    for step in range(steps):\n",
        "        # Desactivar X en el paso 40 y volver a activarlo en el paso 60\n",
        "        if step == 40:\n",
        "            current_state['X'] = 0\n",
        "        elif step == 60:\n",
        "            current_state['X'] = 1\n",
        "\n",
        "        history.append(current_state.copy())\n",
        "\n",
        "        # Definir el siguiente estado de manera sincrónica\n",
        "        next_state = current_state.copy()  # Creamos una copia del estado actual\n",
        "\n",
        "        # Iteramos sobre cada nodo (X, Y, Z) y actualizamos sus valores simultáneamente\n",
        "        for node, transitions in primes.items():\n",
        "            # Saltar X porque ya hemos decidido su valor en los pasos 40 y 60\n",
        "            if node == 'X':\n",
        "                continue\n",
        "\n",
        "            # Cada nodo tiene una lista de posibles transiciones\n",
        "            activated = False\n",
        "            for condition in transitions[0]:  # transitions[0] es el conjunto de condiciones para activación (valor 1)\n",
        "                if all(current_state.get(var, 0) == value for var, value in condition.items()):\n",
        "                    next_state[node] = 1\n",
        "                    activated = True\n",
        "                    break\n",
        "\n",
        "            if not activated:\n",
        "                # transitions[1] es el conjunto de condiciones para inactivación (valor 0)\n",
        "                for condition in transitions[1]:\n",
        "                    if all(current_state.get(var, 0) == value for var, value in condition.items()):\n",
        "                        next_state[node] = 0\n",
        "                        break\n",
        "\n",
        "        current_state = next_state  # Actualizamos el estado actual para la siguiente iteración\n",
        "\n",
        "    return history\n"
      ],
      "metadata": {
        "id": "t-2RX9d1eBwP"
      },
      "execution_count": 27,
      "outputs": []
    },
    {
      "cell_type": "markdown",
      "source": [
        "Modificamos la función para incluir un retraso (delay) en la activación de Y. Este retraso será controlado por un nuevo parámetro que especifiques al llamar a la función. Para lograrlo, mantendremos un contador para la activación de Y, asegurándonos de que tarde el número de pasos deseado en activarse tras la activación de X.\n",
        "\n",
        "\n",
        "### Cambios clave:\n",
        "1. **Retraso en la activación de Y**: Hemos añadido una variable `Y_activation_delay_counter` que se incrementa en cada paso cuando `X` está activo. Solo cuando este contador alcanza el valor del parámetro `delay_Y_activation`, Y se activa.\n",
        "2. **Parámetro `delay_Y_activation`**: Este nuevo parámetro controla el número de pasos que tarda Y en activarse después de que X esté activo.\n",
        "\n",
        "### Simulación:\n",
        "Puedes ejecutar la simulación de esta manera, ajustando el retraso en la activación de Y según lo necesites:\n",
        "\n",
        "```python\n",
        "steps = 100  # Número de pasos en la simulación\n",
        "delay_Y_activation = 5  # Retraso de 5 pasos en la activación de Y\n",
        "simulation_history = simulate_network_synchronous_with_X_toggle_and_Y_delay(primes, initial_state, steps, delay_Y_activation)\n",
        "```\n",
        "\n",
        "Con esta modificación, Y tardará 5 pasos en activarse después de que X esté activo, lo que debería hacer más evidente el retraso en la activación de Z."
      ],
      "metadata": {
        "id": "kwmsOYq9lu84"
      }
    },
    {
      "cell_type": "code",
      "source": [
        "def simulate_network_synchronous_with_X_toggle_and_Y_delay(primes, initial_state, steps, delay_Y_activation=5):\n",
        "    random.seed(42)  # Fijar la semilla para resultados reproducibles\n",
        "    current_state = initial_state.copy()\n",
        "    history = []\n",
        "\n",
        "    # Variable para rastrear el retraso en la activación de Y\n",
        "    Y_activation_delay_counter = 0\n",
        "\n",
        "    for step in range(steps):\n",
        "        # Desactivar X en el paso 40 y volver a activarlo en el paso 60\n",
        "        if step == 40:\n",
        "            current_state['X'] = 0\n",
        "        elif step == 60:\n",
        "            current_state['X'] = 1\n",
        "\n",
        "        history.append(current_state.copy())\n",
        "\n",
        "        # Definir el siguiente estado de manera sincrónica\n",
        "        next_state = current_state.copy()  # Creamos una copia del estado actual\n",
        "\n",
        "        # Control del retraso en la activación de Y\n",
        "        if current_state['X'] == 1:\n",
        "            if Y_activation_delay_counter < delay_Y_activation:\n",
        "                Y_activation_delay_counter += 1\n",
        "            else:\n",
        "                # Cuando se alcanza el número de pasos de retraso, permitir que Y se active\n",
        "                for condition in primes['Y'][0]:  # Lista de condiciones de activación de Y\n",
        "                    if all(current_state.get(var, 0) == value for var, value in condition.items()):\n",
        "                        next_state['Y'] = 1\n",
        "                        break\n",
        "                else:\n",
        "                    next_state['Y'] = 0\n",
        "        else:\n",
        "            Y_activation_delay_counter = 0  # Reiniciar el contador de retraso si X se desactiva\n",
        "            next_state['Y'] = 0  # Y se desactiva si X no está activo\n",
        "\n",
        "        # Iterar sobre cada nodo (excepto Y, que ya fue actualizado) y actualizar sus valores\n",
        "        for node, transitions in primes.items():\n",
        "            if node == 'X' or node == 'Y':\n",
        "                continue  # Saltamos X porque ya lo hemos decidido y Y porque tiene su propio mecanismo\n",
        "\n",
        "            # Cada nodo tiene una lista de posibles transiciones\n",
        "            activated = False\n",
        "            for condition in transitions[0]:  # transitions[0] es el conjunto de condiciones para activación (valor 1)\n",
        "                if all(current_state.get(var, 0) == value for var, value in condition.items()):\n",
        "                    next_state[node] = 1\n",
        "                    activated = True\n",
        "                    break\n",
        "\n",
        "            if not activated:\n",
        "                # transitions[1] es el conjunto de condiciones para inactivación (valor 0)\n",
        "                for condition in transitions[1]:\n",
        "                    if all(current_state.get(var, 0) == value for var, value in condition.items()):\n",
        "                        next_state[node] = 0\n",
        "                        break\n",
        "\n",
        "        current_state = next_state  # Actualizamos el estado actual para la siguiente iteración\n",
        "\n",
        "    return history\n"
      ],
      "metadata": {
        "id": "GUeHbiUjfdZC"
      },
      "execution_count": 31,
      "outputs": []
    },
    {
      "cell_type": "markdown",
      "source": [
        "Por último, implementamos el efecto de filtrado de señales esporádicas en el C1-FFL:\n",
        "\n",
        "1. **Retraso más largo para la activación de Y**: Si X permanece activo durante poco tiempo, Y no debería tener suficiente tiempo para activarse, lo que evitará que Z se active también.\n",
        "2. **Desactivación rápida de X**: Vamos a hacer que X se desactive rápidamente al principio de la simulación, antes de que Y y Z tengan tiempo para activarse.\n",
        "\n",
        "\n",
        "\n",
        "### Cambios clave:\n",
        "1. **Retraso largo para Y**: `delay_Y_activation` ahora es más largo (por ejemplo, 8 pasos), lo que garantiza que Y no se active con señales cortas.\n",
        "2. **Desactivación rápida de X**: X se desactiva en el paso `quick_deactivation_step` (por ejemplo, en el paso 5), antes de que Y y Z tengan tiempo para activarse.\n",
        "\n",
        "### Simulación:\n",
        "Puedes ejecutar la simulación con los siguientes parámetros para probar el filtrado de señales:\n",
        "\n",
        "```python\n",
        "steps = 100  # Número de pasos en la simulación\n",
        "delay_Y_activation = 8  # Retraso largo de activación de Y\n",
        "quick_deactivation_step = 5  # X se desactiva rápidamente\n",
        "simulation_history = simulate_network_synchronous_with_signal_filtering(primes, initial_state, steps, delay_Y_activation, quick_deactivation_step)\n",
        "```\n",
        "\n",
        "Con esta configuración, si X solo está activo durante un corto periodo (antes del paso 5), Y no se activará debido al largo retraso, y Z tampoco debería activarse, demostrando el efecto de filtrado de señales esporádicas en el C1-FFL."
      ],
      "metadata": {
        "id": "k7ngpirlmFDD"
      }
    },
    {
      "cell_type": "code",
      "source": [
        "def simulate_network_synchronous_with_signal_filtering(primes, initial_state, steps, delay_Y_activation=8, quick_deactivation_step=5):\n",
        "    random.seed(42)  # Fijar la semilla para resultados reproducibles\n",
        "    current_state = initial_state.copy()\n",
        "    history = []\n",
        "\n",
        "    # Variable para rastrear el retraso en la activación de Y\n",
        "    Y_activation_delay_counter = 0\n",
        "\n",
        "    for step in range(steps):\n",
        "        # Desactivar X rápidamente (por ejemplo, en el paso 5)\n",
        "        if step == quick_deactivation_step:\n",
        "            current_state['X'] = 0\n",
        "\n",
        "        # Reactivar X en el paso 60 como en simulaciones anteriores\n",
        "        elif step == 60:\n",
        "            current_state['X'] = 1\n",
        "\n",
        "        history.append(current_state.copy())\n",
        "\n",
        "        # Definir el siguiente estado de manera sincrónica\n",
        "        next_state = current_state.copy()  # Creamos una copia del estado actual\n",
        "\n",
        "        # Control del retraso en la activación de Y\n",
        "        if current_state['X'] == 1:\n",
        "            if Y_activation_delay_counter < delay_Y_activation:\n",
        "                Y_activation_delay_counter += 1\n",
        "            else:\n",
        "                # Cuando se alcanza el número de pasos de retraso, permitir que Y se active\n",
        "                for condition in primes['Y'][0]:  # Lista de condiciones de activación de Y\n",
        "                    if all(current_state.get(var, 0) == value for var, value in condition.items()):\n",
        "                        next_state['Y'] = 1\n",
        "                        break\n",
        "                else:\n",
        "                    next_state['Y'] = 0\n",
        "        else:\n",
        "            Y_activation_delay_counter = 0  # Reiniciar el contador de retraso si X se desactiva\n",
        "            next_state['Y'] = 0  # Y se desactiva si X no está activo\n",
        "\n",
        "        # Iterar sobre cada nodo (excepto Y, que ya fue actualizado) y actualizar sus valores\n",
        "        for node, transitions in primes.items():\n",
        "            if node == 'X' or node == 'Y':\n",
        "                continue  # Saltamos X porque ya lo hemos decidido y Y porque tiene su propio mecanismo\n",
        "\n",
        "            # Cada nodo tiene una lista de posibles transiciones\n",
        "            activated = False\n",
        "            for condition in transitions[0]:  # transitions[0] es el conjunto de condiciones para activación (valor 1)\n",
        "                if all(current_state.get(var, 0) == value for var, value in condition.items()):\n",
        "                    next_state[node] = 1\n",
        "                    activated = True\n",
        "                    break\n",
        "\n",
        "            if not activated:\n",
        "                # transitions[1] es el conjunto de condiciones para inactivación (valor 0)\n",
        "                for condition in transitions[1]:\n",
        "                    if all(current_state.get(var, 0) == value for var, value in condition.items()):\n",
        "                        next_state[node] = 0\n",
        "                        break\n",
        "\n",
        "        current_state = next_state  # Actualizamos el estado actual para la siguiente iteración\n",
        "\n",
        "    return history\n"
      ],
      "metadata": {
        "id": "oLsbr2Hah5Ya"
      },
      "execution_count": 35,
      "outputs": []
    },
    {
      "cell_type": "markdown",
      "metadata": {
        "collapsed": false,
        "id": "YW4Jc2SFQmK7"
      },
      "source": [
        "### Run the simulation for a number of steps"
      ]
    },
    {
      "cell_type": "code",
      "execution_count": 16,
      "metadata": {
        "id": "VkX4Tsy_QmK7"
      },
      "outputs": [],
      "source": [
        "steps = 100  # You can adjust the number of steps\n",
        "simulation_history = simulate_network(primes, initial_state, steps)"
      ]
    },
    {
      "cell_type": "code",
      "source": [
        "steps = 100  # You can adjust the number of steps\n",
        "simulation_history = simulate_network_synchronous(primes, initial_state, steps)"
      ],
      "metadata": {
        "id": "0ynn8dTZcp4B"
      },
      "execution_count": 22,
      "outputs": []
    },
    {
      "cell_type": "code",
      "source": [
        "steps = 100  # Número de pasos en la simulación\n",
        "simulation_history = simulate_network_synchronous_with_X_toggle(primes, initial_state, steps)\n"
      ],
      "metadata": {
        "id": "Lkp9gIgUeJFu"
      },
      "execution_count": 28,
      "outputs": []
    },
    {
      "cell_type": "code",
      "source": [
        "steps = 100  # Número de pasos en la simulación\n",
        "delay_Y_activation = 5  # Retraso de 5 pasos en la activación de Y\n",
        "simulation_history = simulate_network_synchronous_with_X_toggle_and_Y_delay(primes, initial_state, steps, delay_Y_activation)\n"
      ],
      "metadata": {
        "id": "Z3JE-lF0fioO"
      },
      "execution_count": 32,
      "outputs": []
    },
    {
      "cell_type": "code",
      "source": [
        "steps = 100  # Número de pasos en la simulación\n",
        "delay_Y_activation = 6  # Retraso largo de activación de Y\n",
        "quick_deactivation_step = 5  # X se desactiva rápidamente\n",
        "simulation_history = simulate_network_synchronous_with_signal_filtering(primes, initial_state, steps, delay_Y_activation, quick_deactivation_step)\n"
      ],
      "metadata": {
        "id": "vdBaxbC-iGvN"
      },
      "execution_count": 39,
      "outputs": []
    },
    {
      "cell_type": "markdown",
      "metadata": {
        "collapsed": false,
        "id": "HI0ADu1SQmK8"
      },
      "source": [
        "### Print the simulation results"
      ]
    },
    {
      "cell_type": "code",
      "execution_count": null,
      "metadata": {
        "id": "lKUXDDQ5QmK8"
      },
      "outputs": [],
      "source": [
        "for i, state in enumerate(simulation_history):\n",
        "    print(f\"Step {i}: {state}\")"
      ]
    },
    {
      "cell_type": "markdown",
      "metadata": {
        "collapsed": false,
        "id": "4bfJxScoQmK8"
      },
      "source": [
        "## Analyse the simulation\n",
        "### Plot the time evolution of the state of each node\n",
        "The C1-FFL shows delay and persistence, as explained above. Play a bit with the plotting function below to observe how the output gene, Z activates with a delay respect to X and how it persists in its activated state after X is back to its inactive form."
      ]
    },
    {
      "cell_type": "code",
      "execution_count": 40,
      "metadata": {
        "id": "ld0j1RhgQmK8",
        "colab": {
          "base_uri": "https://localhost:8080/",
          "height": 446
        },
        "outputId": "c949a137-75d2-4249-b3d2-573e60f4823c"
      },
      "outputs": [
        {
          "output_type": "display_data",
          "data": {
            "text/plain": [
              "<Figure size 2000x600 with 1 Axes>"
            ],
            "image/png": "[encoded data removed]"
          },
          "metadata": {}
        }
      ],
      "source": [
        "# Assuming 'history' is your list of states from the simulation\n",
        "steps = range(len(simulation_history))\n",
        "states_X = [state['X'] for state in simulation_history]\n",
        "states_Y = [state['Y'] for state in simulation_history]\n",
        "states_Z = [state['Z'] for state in simulation_history]\n",
        "\n",
        "plt.figure(figsize=(20, 6))\n",
        "plt.plot(steps, states_X, label='X')\n",
        "plt.plot(steps, states_Y, label='Y')\n",
        "plt.plot(steps, states_Z, label='Z')\n",
        "\n",
        "plt.xlabel('Simulation Step')\n",
        "plt.ylabel('State')\n",
        "plt.title('State of Each Node Over Time')\n",
        "plt.legend()\n",
        "plt.grid(True)\n",
        "plt.show()\n"
      ]
    },
    {
      "cell_type": "markdown",
      "metadata": {
        "collapsed": false,
        "id": "EKkj3hP9QmK8"
      },
      "source": [
        "We can plot the simulation in a heatmap, where each row represents a node (X, Y, Z), and each column represents a simulation step. The color intensity indicates the state of the node (e.g., 0 or 1)."
      ]
    },
    {
      "cell_type": "code",
      "execution_count": 41,
      "metadata": {
        "id": "jWRmkmjNQmK8",
        "colab": {
          "base_uri": "https://localhost:8080/",
          "height": 564
        },
        "outputId": "9855d606-37bb-4457-a099-d2c113b83f36"
      },
      "outputs": [
        {
          "output_type": "display_data",
          "data": {
            "text/plain": [
              "<Figure size 1000x600 with 2 Axes>"
            ],
            "image/png": "[encoded data removed]"
          },
          "metadata": {}
        }
      ],
      "source": [
        "# Convert history to a NumPy array for easier manipulation\n",
        "history_array = np.array([[state['X'], state['Y'], state['Z']] for state in simulation_history])\n",
        "\n",
        "plt.figure(figsize=(10, 6))\n",
        "plt.imshow(history_array.T, cmap='viridis', aspect='auto', interpolation='none')\n",
        "\n",
        "plt.colorbar(label='State', ticks=[0, 1])\n",
        "plt.yticks(ticks=[0, 1, 2], labels=['X', 'Y', 'Z'])\n",
        "plt.xlabel('Simulation Step')\n",
        "plt.title('Node States Over Time (Heatmap)')\n",
        "\n",
        "plt.show()\n"
      ]
    },
    {
      "cell_type": "markdown",
      "metadata": {
        "collapsed": false,
        "id": "2xuyVT_JQmK8"
      },
      "source": [
        "### Compute the State Transition Graph and try to find steady states or attractors\n",
        "Prime implicants can be used to derive the state transition graph (STG) of a network. To compute it, use the function `primes2stg` of the module `StateTransitionGraphs`. It returns an instance of the NetworkX digraph class.\n",
        "\n",
        "The second argument to `primes2stg` is either “synchronous” or “asynchronous” for the fully synchronous or the fully asynchronous transition relation, see e.g. [Klarner2015](https://www.frontiersin.org/articles/10.3389/fbioe.2015.00130/full) for a formal definition.\n",
        "\n",
        "The nodes of an STG are string representations of states, e.g. “110”, see states, [subspaces and paths](https://pyboolnet.readthedocs.io/en/master/manual.html#states-subspaces-paths)."
      ]
    },
    {
      "cell_type": "code",
      "execution_count": 42,
      "metadata": {
        "id": "WCr04YU9QmK9",
        "colab": {
          "base_uri": "https://localhost:8080/"
        },
        "outputId": "c4777ac1-6d97-4f55-9f52-7cf2c5bac1fb"
      },
      "outputs": [
        {
          "output_type": "execute_result",
          "data": {
            "text/plain": [
              "['111', '011', '101', '110', '010', '100', '000', '001']"
            ]
          },
          "metadata": {},
          "execution_count": 42
        }
      ],
      "source": [
        "stg = STGs.primes2stg(primes, \"asynchronous\")\n",
        "list(stg.nodes())[0]\n",
        "list(stg.nodes())"
      ]
    },
    {
      "cell_type": "code",
      "execution_count": 12,
      "metadata": {
        "id": "eT5T7C-pQmK9",
        "outputId": "4b1eb5a3-2050-4121-a144-6cb352290778",
        "colab": {
          "base_uri": "https://localhost:8080/",
          "height": 675
        }
      },
      "outputs": [
        {
          "output_type": "display_data",
          "data": {
            "text/plain": [
              "<Figure size 800x800 with 1 Axes>"
            ],
            "image/png": "[encoded data removed]"
          },
          "metadata": {}
        }
      ],
      "source": [
        "plt.figure(figsize=(8, 8))\n",
        "pos = nx.spring_layout(stg)  # positions for all nodes\n",
        "\n",
        "# Draw the nodes\n",
        "nx.draw_networkx_nodes(stg, pos, node_size=400, node_color=\"lightgrey\")\n",
        "\n",
        "# Draw the edges\n",
        "nx.draw_networkx_edges(stg, pos, edgelist=stg.edges(), arrows=True)\n",
        "\n",
        "# Label the nodes\n",
        "node_labels = {node: str(node) for node in stg.nodes()}\n",
        "nx.draw_networkx_labels(stg, pos, labels=node_labels, font_size=12)\n",
        "\n",
        "plt.title('State Transition Graph')\n",
        "plt.axis('off')  # Turn off the axis\n",
        "plt.show()\n"
      ]
    },
    {
      "cell_type": "markdown",
      "metadata": {
        "collapsed": false,
        "id": "vQRtITQgQmK-"
      },
      "source": [
        "A steady state in a State Transition Graph is a node that has no outgoing edges. In the context of Boolean networks, a steady state is a configuration of node states where the system remains constant over time, meaning there are no further changes or transitions to other states. In an STG, this is represented by a node that doesn't lead to any other node, indicating that once the network reaches this state, it stays there. If you cannot spot such nodes from the plot, you can search for them programmatically:"
      ]
    },
    {
      "cell_type": "code",
      "execution_count": 13,
      "metadata": {
        "id": "PhTFN3lPQmK_",
        "colab": {
          "base_uri": "https://localhost:8080/"
        },
        "outputId": "9711bdda-082e-4169-9412-7cb5513b37ae"
      },
      "outputs": [
        {
          "output_type": "execute_result",
          "data": {
            "text/plain": [
              "OutDegreeView({'111': 3, '011': 1, '101': 1, '110': 2, '010': 2, '100': 2, '000': 3, '001': 2})"
            ]
          },
          "metadata": {},
          "execution_count": 13
        }
      ],
      "source": [
        "stg.out_degree() # shows each node and the number of outgoing edges\n",
        "#stg.in_degree()"
      ]
    },
    {
      "cell_type": "markdown",
      "metadata": {
        "collapsed": false,
        "id": "HP7PqrWnQmK_"
      },
      "source": [
        "This is a bit more elaborate:"
      ]
    },
    {
      "cell_type": "code",
      "execution_count": 14,
      "metadata": {
        "id": "R1dkVnubQmK_",
        "colab": {
          "base_uri": "https://localhost:8080/"
        },
        "outputId": "587c3aed-17b7-4355-dc0a-0a4dbb21f1bd"
      },
      "outputs": [
        {
          "output_type": "stream",
          "name": "stdout",
          "text": [
            "Steady States: []\n"
          ]
        }
      ],
      "source": [
        "steady_states = [node for node, out_degree in stg.out_degree() if out_degree == 0]\n",
        "print(\"Steady States:\", steady_states)"
      ]
    },
    {
      "cell_type": "markdown",
      "source": [
        "Al generar el **State Transition Graph (STG)** de forma asincrónica (con `STGs.primes2stg(primes, \"asynchronous\")`), los nodos pueden tener flechas salientes en varios puntos del gráfico, lo que implica que no hay estados estacionarios estrictos en la simulación asincrónica. En esta simulación, no estamos viendo que el sistema se quede atrapado en un estado particular.\n",
        "\n",
        "### ¿Por qué no hay un estado estacionario en la simulación asincrónica?\n",
        "\n",
        "En las simulaciones asincrónicas, los nodos pueden actualizarse de manera independiente unos de otros, lo que permite transiciones continuas entre los diferentes estados, y el sistema puede seguir cambiando incluso después de alcanzar estados que podrían ser estacionarios en una simulación sincrónica. Esto lleva a que los **estados estacionarios** sean menos comunes o no aparezcan claramente, como en el gráfico que has mostrado.\n",
        "\n",
        "### ¿El C1-FFL debería converger hacia el estado **111**?\n",
        "\n",
        "En un C1-FFL **sincrónico**, generalmente el sistema converge hacia un estado estable, y en muchos casos ese estado es **111**, donde todos los nodos (X, Y, Z) están activos. Esto se debe a que:\n",
        "\n",
        "- X activa Y.\n",
        "- Y, junto con X, activan Z.\n",
        "\n",
        "El C1-FFL está diseñado para asegurar la robustez de la señal, y una vez que el sistema pasa por el tiempo necesario para activar Y (y luego Z), tiende a estabilizarse en el estado **111** si las condiciones son favorables (es decir, si X permanece activo el tiempo suficiente).\n",
        "\n",
        "### Simulación sincrónica para observar el estado estacionario\n",
        "\n",
        "Para observar claramente la convergencia hacia un estado estacionario como **111**, sería mejor realizar una simulación **sincrónica**, donde todos los nodos se actualizan simultáneamente en cada paso de la simulación. Puedes generar el STG de manera sincrónica con el siguiente cambio en tu código:\n",
        "\n",
        "```python\n",
        "stg = STGs.primes2stg(primes, \"synchronous\")\n",
        "```\n",
        "\n",
        "Esto debería mostrar un patrón más claro de convergencia hacia el estado **111** como el estado estacionario en tu simulación del C1-FFL. Con una simulación sincrónica, el sistema debería eventualmente alcanzar un estado estacionario si las reglas lógicas del modelo son correctas."
      ],
      "metadata": {
        "id": "CAFkNsYPkrQW"
      }
    },
    {
      "cell_type": "markdown",
      "metadata": {
        "collapsed": false,
        "id": "9DiroN4SQmLD"
      },
      "source": [
        "### Find attractors of the C1-FFL\n",
        "Attractors represent stable long-term behaviors of the system. They are sets of states (configurations of the network) towards which the system tends to evolve over time. **Steady States are attractors**. These are single states that the system settles into and remains in indefinitely. Once the network reaches a steady state, it will not change unless perturbed. There are also **cyclic (or limit cycle) attractors**: These are sets of states through which the system cycles indefinitely. In an STG, these appear as closed loops, where the system moves through a series of states repeatedly. The length of the cycle can vary, from simple (two states oscillating back and forth) to complex (many states)."
      ]
    },
    {
      "cell_type": "code",
      "execution_count": null,
      "metadata": {
        "id": "6HVnJWaSQmLE"
      },
      "outputs": [],
      "source": [
        "# Find attractors\n",
        "attractors = ad.compute_attractors_tarjan(stg)\n",
        "\n",
        "# Print attractors\n",
        "for i, attractor in enumerate(attractors):\n",
        "    print(f\"Attractor {i + 1}: {attractor}\")"
      ]
    },
    {
      "cell_type": "markdown",
      "metadata": {
        "collapsed": false,
        "id": "RBOu5h5LFM_Y"
      },
      "source": [
        "<!-- Cosas que hacer\n",
        "Analyzing the signal processing capabilities of a coherent type-1 feedforward loop (C1-FFL) using a Boolean network involves simulating how the FFL responds to various input signals. Here's an example approach to study this:\n",
        "\n",
        "### Understanding C1-FFL\n",
        "\n",
        "In a C1-FFL, you have three nodes: X, Y, and Z. X activates Y, and both X and Y are required to activate Z. In Boolean terms:\n",
        "\n",
        "- Y = X\n",
        "- Z = X AND Y\n",
        "\n",
        "This means Z is activated only when both X and Y are active.\n",
        "\n",
        "### Analyzing Signal Processing\n",
        "\n",
        "1. **Setup the Boolean Network Model:**\n",
        "   - Define the nodes and their Boolean update rules as per the C1-FFL logic.\n",
        "\n",
        "2. **Design Input Signals:**\n",
        "   - Create different input patterns for node X (the initial regulator). For example, a sustained signal (X stays 'on'), a pulse (X is 'on' for a short period), or an oscillating signal (X switches between 'on' and 'off').\n",
        "\n",
        "3. **Simulate Network Response:**\n",
        "   - For each input pattern, simulate the network's response over time.\n",
        "   - Record the states of Y and Z at each time step.\n",
        "\n",
        "4. **Analyze Delay and Persistence:**\n",
        "   - Observe the delay between the activation of X and the response in Z.\n",
        "   - Check how long Z stays active after X is turned off. The C1-FFL is known for its feature of 'persistence detection,' meaning Z should remain active for a while even after X is deactivated.\n",
        "\n",
        "5. **Response to Noise:**\n",
        "   - Introduce random fluctuations in the input signal to X and observe how the network dampens or amplifies this noise.\n",
        "   - C1-FFLs are expected to filter out brief fluctuations in X's signal, only responding to sustained activation.\n",
        "\n",
        "6. **Comparative Analysis:**\n",
        "   - Compare the response of the C1-FFL with a simple direct regulation model (where X directly activates Z without Y).\n",
        "   - This comparison highlights the signal processing advantages of the C1-FFL structure.\n",
        "\n",
        "7. **Visualization:**\n",
        "   - Visualize the network's response over time using graphs or plots. This can help in understanding the dynamics and timing of signal processing.\n",
        "\n",
        "8. **Sensitivity Analysis:**\n",
        "   - Test how changes in the update rules or the introduction of delays affect the signal processing capabilities.\n",
        "\n",
        "### Conclusion\n",
        "\n",
        "Through this analysis, you will gain insights into how the C1-FFL processes signals, particularly in terms of filtering noise, creating a delay in the response, and enabling persistence in the output. This approach is not only useful for understanding biological systems but can also inform synthetic biology designs and the development of bio-inspired computational models.\n",
        "-->"
      ]
    }
  ],
  "metadata": {
    "colab": {
      "provenance": [],
      "include_colab_link": true
    },
    "kernelspec": {
      "display_name": "Python 3 (ipykernel)",
      "language": "python",
      "name": "python3"
    },
    "language_info": {
      "name": "python"
    }
  },
  "nbformat": 4,
  "nbformat_minor": 0
}