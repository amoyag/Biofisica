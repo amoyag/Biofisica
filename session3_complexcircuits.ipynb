{
  "cells": [
    {
      "cell_type": "markdown",
      "metadata": {
        "id": "view-in-github",
        "colab_type": "text"
      },
      "source": [
        "<a href=\"https://colab.research.google.com/github/amoyag/Biofisica/blob/main/session3_complexcircuits.ipynb\" target=\"_parent\"><img src=\"https://colab.research.google.com/assets/colab-badge.svg\" alt=\"Open In Colab\"/></a>"
      ]
    },
    {
      "cell_type": "markdown",
      "source": [
        "### Run the cell below!!!"
      ],
      "metadata": {
        "collapsed": false,
        "id": "a823a05527fb543d"
      },
      "id": "a823a05527fb543d"
    },
    {
      "cell_type": "code",
      "execution_count": null,
      "outputs": [],
      "source": [
        "import numpy as np\n",
        "from scipy.integrate import odeint\n",
        "import matplotlib.pyplot as plt\n",
        "import math"
      ],
      "metadata": {
        "id": "71a032cb6f16fa1b"
      },
      "id": "71a032cb6f16fa1b"
    },
    {
      "cell_type": "markdown",
      "source": [
        "# Dynamics of Complex Biological circuits\n",
        "## The feedback loop\n",
        "Biological circuits, much like their electronic counterparts, rely on complex networks of interactions to regulate and control various functions within living organisms. Central to these networks are feedback loops, which play a pivotal role in maintaining homeostasis, orchestrating developmental processes, and enabling adaptive responses to environmental changes.\n",
        "\n",
        "Feedback loops in biological systems are mechanisms through which a system regulates its own behavior by responding to its own outputs. These loops can be broadly classified into two categories:\n",
        "\n",
        "1. **Positive Feedback Loops**: These amplify a signal or increase the output of a system.\n",
        "\n",
        "2. **Negative Feedback Loops**: These work to dampen or stabilize a system. ### Feedback Loops and Memory in Biological Systems\n",
        "\n",
        "Feedback loops in biological systems not only regulate immediate responses but also contribute to a form of cellular memory. This memory allows cells to remember and respond to past events, an essential feature for adaptation and survival in changing environments.\n",
        "\n",
        "Biological memory, in this context, refers to the ability of a cell or a system to maintain a state or response over time, even after the initial stimulus that triggered the response has ceased. This capability is crucial for processes like development, immune responses, and learning in higher organisms.\n",
        "\n",
        "### Role of Feedback Loops in Memory\n",
        "\n",
        "1. **Stabilizing Information**: Negative feedback loops are particularly important in stabilizing states within cells. Once a cell commits to a particular state (like becoming a specific cell type during development), negative feedback mechanisms can help lock the system into that state, making it resistant to minor fluctuations in environmental conditions or internal noise.\n",
        "\n",
        "2. **Maintaining States Over Time**: Positive feedback loops can maintain a response or a state over a prolonged period. Once triggered, a positive feedback loop can sustain its own activity, creating a lasting response until an external signal or a separate negative feedback loop intervenes. This is akin to a \"latch\" in electronics, where a switch, once flipped, stays in its new position.\n",
        "\n",
        "3. **Bistability**: Some systems exhibit bistability, where they can stably exist in one of two states. This is often achieved through interlinked positive and negative feedback loops. In such systems, the transition from one state to another requires a significant stimulus, but once the change is made, the system remembers this state, even if the stimulus is removed. This property is called hysteresis and is a powerful mechanism for cellular memory.\n",
        "\n",
        "We will simulate the dynamics of positive and negative feedback loops and explore their effect in memory."
      ],
      "metadata": {
        "collapsed": false,
        "id": "d8d1db5a846d46c6"
      },
      "id": "d8d1db5a846d46c6"
    },
    {
      "cell_type": "markdown",
      "source": [
        "\n",
        "## Positive  feedback loop\n",
        "We set up a positive feedback loop in which transcription factor X activates transcription factors $Y_1$ and $Y_2$ which mutually activate each other. The input function at the $Y_1$ and $Y_2$ promoters is an OR gate. At time t=0 X begins to produce from an initial concentration of X=0. Initially, $Y_1$ = $Y_2$ = 0. All production rates are beta = 1 and removal rates are alpha = 1. All of the activation thresholds are K = 0.5. At time = 3 production of X stops.\n",
        "\n",
        "To simulate this setting with ordinary differential equations, we need to define the ODEs for the concentrations of transcription factors X, $Y_1$, and $Y_2$ over time. The dynamics of the system are governed by the following principles:\n",
        "\n",
        "1. **Production of X**: Begins at $t = 0 $and stops at $t = 3 $. The production rate is constant ($\\beta = 1 $) when it is being produced.\n",
        "2. **Production of $Y_1 $and $Y_2 $**: Activated by X and mutually activate each other. The input function at their promoters is an OR gate, meaning either X or the other Y factor can activate its production. The production rate ($\\beta $) is 1.\n",
        "3. **Removal of X, $Y_1 $, and $Y_2 $**: Each factor is removed at a constant rate ($\\alpha = 1 $).\n",
        "4. **Activation Thresholds**: All activation thresholds are $K = 0.5 $.\n",
        "\n",
        "The ODEs can be expressed as follows:\n",
        "\n",
        "- $\\frac{dX}{dt} = \\beta \\cdot \\text{production\\_status}(t) - \\alpha \\cdot X $\n",
        "- $\\frac{dY_1}{dt} = \\beta \\cdot \\text{activation}(X, Y_2) - \\alpha \\cdot Y_1 $\n",
        "- $\\frac{dY_2}{dt} = \\beta \\cdot \\text{activation}(X, Y_1) - \\alpha \\cdot Y_2 $\n",
        "\n",
        "Where $production\\_status(t)$ is a function that returns 1 if $t < 3 $and 0 otherwise, and `activation(X, Y)` is a function that models the OR gate, returning 1 if either X or Y is above the threshold $K $.\n",
        "\n",
        "Now, let's implement this in Python and plot the dynamics.\n",
        "_Note that we set $\\beta$ for $Y_2$ as $0.8 \\cdot \\beta$ so the plots for $Y_1$ and $Y_2$ don't overlap._"
      ],
      "metadata": {
        "collapsed": false,
        "id": "df79d7d19f904300"
      },
      "id": "df79d7d19f904300"
    },
    {
      "cell_type": "code",
      "execution_count": null,
      "outputs": [],
      "source": [
        "import numpy as np\n",
        "from scipy.integrate import solve_ivp\n",
        "import matplotlib.pyplot as plt\n",
        "\n",
        "# Parameters\n",
        "beta = 1\n",
        "alpha = 1\n",
        "K = 0.5\n",
        "\n",
        "# ODE system\n",
        "def odes(t, state):\n",
        "    X, Y1, Y2 = state\n",
        "    production_status = 1 if t < 3 else 0\n",
        "    activation_Y1 = 1 if X > K or Y2 > K else 0\n",
        "    activation_Y2 = 1 if X > K or Y1 > K else 0\n",
        "\n",
        "    dXdt = beta * production_status - alpha * X\n",
        "    dY1dt = beta * activation_Y1 - alpha * Y1\n",
        "    dY2dt = (0.8*beta) * activation_Y2 - alpha * Y2\n",
        "\n",
        "    return [dXdt, dY1dt, dY2dt]\n",
        "\n",
        "# Initial conditions\n",
        "initial_state = [0, 0, 0]  # X, Y1, Y2 initially zero\n",
        "\n",
        "# Time points where the solution is computed\n",
        "time = np.linspace(0, 10, 500)\n",
        "\n",
        "# Solve ODE\n",
        "solution = solve_ivp(odes, [0, 10], initial_state, t_eval=time)\n",
        "\n",
        "# Plot results\n",
        "plt.figure(figsize=(10, 6))\n",
        "plt.plot(solution.t, solution.y[0], label='X')\n",
        "plt.plot(solution.t, solution.y[1], label='$Y_1$')\n",
        "plt.plot(solution.t, solution.y[2], label='$Y_2$')\n",
        "plt.xlabel('Time')\n",
        "plt.ylabel('Concentration')\n",
        "plt.title('Dynamics of the Transcription Factors')\n",
        "plt.legend()\n",
        "plt.grid(True)\n",
        "plt.show()\n"
      ],
      "metadata": {
        "ExecuteTime": {
          "end_time": "2023-12-10T11:45:43.074617Z",
          "start_time": "2023-12-10T11:45:42.977076Z"
        },
        "id": "bf682c1ccc61cc3f"
      },
      "id": "bf682c1ccc61cc3f"
    },
    {
      "cell_type": "markdown",
      "source": [
        "## Negative feedback loop\n",
        "In the same setting, now $Y_1$ and $Y_2$ mutually repress each other. $X$ activates $Y_1$ and represses $Y_2$. The initial levels are $X = Y_1 = 0$; $Y_2 = 1$.\n",
        "\n",
        "We'll modify the dynamics of X so that it is no longer governed by an ODE but is a predefined function of time. Specifically, X will be set to 1 for $t < 3$ and will abruptly go to 0 at $t = 3$. This change will simplify the system and make the effects of X's cessation on $Y_1$ and $Y_2$ more apparent.\n",
        "\n",
        "The updated ODEs for $Y_1$ and $Y_2$ will be:\n",
        "\n",
        "- $\\frac{dY_1}{dt} = \\frac{\\beta \\cdot \\text{X}(t)}{K + \\text{X}(t)} - \\alpha \\cdot Y_1 - \\frac{\\beta \\cdot Y_1}{K + Y_2}$\n",
        "- $\\frac{dY_2}{dt} = - \\frac{\\beta \\cdot \\text{X}(t)}{K + \\text{X}(t)} - \\alpha \\cdot Y_2 - \\frac{\\beta \\cdot Y_2}{K + Y_1}$\n",
        "\n",
        "Where $\\text{X}(t)$ is a function that returns 1 for $t < 3$ and 0 otherwise.\n",
        "\n",
        "\n",
        "\n",
        "_Note, for clarity we have simplified the dynamics of X to a step function and set $K$ = 1._\n",
        "\n"
      ],
      "metadata": {
        "collapsed": false,
        "id": "1c77598727663315"
      },
      "id": "1c77598727663315"
    },
    {
      "cell_type": "code",
      "execution_count": null,
      "outputs": [],
      "source": [
        "# Parameters\n",
        "beta = 1\n",
        "alpha = 1\n",
        "K = 1\n",
        "\n",
        "# Updated ODE system with X as a function of time\n",
        "def X(t):\n",
        "    \"\"\"Function to represent the dynamics of X independent of ODEs.\"\"\"\n",
        "    return 1 if t < 3 else 0\n",
        "\n",
        "def updated_odes_v2(t, state):\n",
        "    Y1, Y2 = state\n",
        "\n",
        "    # X activates Y1 and represses Y2\n",
        "    activation_Y1 = beta * X(t) / (K + X(t))\n",
        "    repression_Y2 = beta * X(t) / (K + X(t))\n",
        "\n",
        "    # Mutual repression between Y1 and Y2\n",
        "    repression_Y1_by_Y2 = beta * Y2 / (K + Y2)\n",
        "    repression_Y2_by_Y1 = beta * Y1 / (K + Y1)\n",
        "\n",
        "    dY1dt = activation_Y1 - alpha * Y1 - repression_Y1_by_Y2\n",
        "    dY2dt = -repression_Y2 - alpha * Y2 - repression_Y2_by_Y1\n",
        "\n",
        "    return [dY1dt, dY2dt]\n",
        "\n",
        "# New initial conditions: Y1 = 0, Y2 = 1\n",
        "initial_state_v2 = [0, 1]\n",
        "\n",
        "# Modified time range\n",
        "time_range = np.linspace(0, 20, 1000)  # From 0 to 20 with 1000 points\n",
        "\n",
        "# Solve ODE with new time range\n",
        "solution_updated_v2 = solve_ivp(updated_odes_v2, [0, 20], initial_state_v2, t_eval=time_range)\n",
        "\n",
        "# Plot results with the new time range\n",
        "plt.figure(figsize=(10, 6))\n",
        "plt.plot(solution_updated_v2.t, [X(t) for t in solution_updated_v2.t], label='X')\n",
        "plt.plot(solution_updated_v2.t, solution_updated_v2.y[0], label='$Y_1$')\n",
        "plt.plot(solution_updated_v2.t, solution_updated_v2.y[1], label='$Y_2$')\n",
        "plt.xlabel('Time')\n",
        "plt.ylabel('Concentration')\n",
        "plt.title('Dynamics with Extended Time Range')\n",
        "plt.legend()\n",
        "plt.grid(True)\n",
        "plt.show()\n",
        "\n",
        "\n",
        "# # Solve ODE with new conditions\n",
        "# solution_updated_v2 = solve_ivp(updated_odes_v2, [0, 10], initial_state_v2, t_eval=time)\n",
        "#\n",
        "# # Plot results for the updated system\n",
        "# plt.figure(figsize=(10, 6))\n",
        "# plt.plot(solution_updated_v2.t, [X(t) for t in solution_updated_v2.t], label='X')\n",
        "# plt.plot(solution_updated_v2.t, solution_updated_v2.y[0], label='$Y_1$')\n",
        "# plt.plot(solution_updated_v2.t, solution_updated_v2.y[1], label='$Y_2$')\n",
        "# plt.xlabel('Time')\n",
        "# plt.ylabel('Concentration')\n",
        "# plt.title('Dynamics with X as a Function of Time')\n",
        "# plt.legend()\n",
        "# plt.grid(True)\n",
        "# plt.show()\n"
      ],
      "metadata": {
        "ExecuteTime": {
          "end_time": "2023-12-10T12:09:58.368129Z",
          "start_time": "2023-12-10T12:09:58.271364Z"
        },
        "id": "eb39473699b681e2"
      },
      "id": "eb39473699b681e2"
    },
    {
      "cell_type": "markdown",
      "source": [
        "**Question 1.** Explain the memory in each feedback loop."
      ],
      "metadata": {
        "collapsed": false,
        "id": "8532f3a679402396"
      },
      "id": "8532f3a679402396"
    },
    {
      "cell_type": "markdown",
      "source": [
        "## SIM Biological Circuits\n",
        "\n",
        "A Single Input circuit (SIM) is a simplified system where a single input (like a signaling molecule) controls a biological process. This input could be a hormone, a neurotransmitter, a nutrient, or any molecule that triggers a biological response. Imagine a hormone (let's call it Hormone H) that, upon entering a cell, triggers a series of biochemical reactions leading to the production of a specific protein.\n",
        "\n",
        "ODEs allow us to model the rate of change of concentrations over time in a dynamic biological system. Each component of the SIM can be represented by an ODE that encapsulates its behavior and interactions. For instance, in our example, we might model the concentration of Hormone H, the activation state of a receptor, and the production rate of the protein.\n",
        "\n",
        "Overview of the SIM:\n",
        "\n",
        "1. **Components of the SIM**:\n",
        "   - **Transcription Factor $X$**: Acts as the single input in this module, regulating the expression of genes $Z$ and $Z_2$.\n",
        "   - **Genes $Z$ and $Z_2$**: Their expression is regulated by the transcription factor $X$, but each responds at a different threshold level of $X$.\n",
        "\n",
        "### Key Features of the Simulation. LIFO:\n",
        "\n",
        "1. **Dynamic Regulation**:\n",
        "   - The transcription factor $X$ is produced up to a certain time point (t = 10) and then decays.\n",
        "   - Genes $Z$ and $Z_2$ are activated at different threshold concentrations of $X$, reflecting different regulatory dynamics.\n",
        "\n",
        "2. **Parameter Settings**:\n",
        "   - `alpha_X, beta_X` etc., are parameters defining the rate of production and decay for $X, Z,$ and $Z_2$.\n",
        "   - `X_threshold` and `X_threshold2` are the critical concentrations of $X$ that trigger the expression of $Z$ and $Z_2$, respectively."
      ],
      "metadata": {
        "collapsed": false,
        "id": "88472949b4a29dc0"
      },
      "id": "88472949b4a29dc0"
    },
    {
      "cell_type": "markdown",
      "source": [
        "### Simulating a FFL with LIFO behaviour\n",
        "**LIFO (Last In, First Out) Temporal Program**, refers to the order in which gene expression is turned off as the level of $X$ decreases.\n"
      ],
      "metadata": {
        "collapsed": false,
        "id": "e7d79e2d199b639"
      },
      "id": "e7d79e2d199b639"
    },
    {
      "cell_type": "code",
      "execution_count": null,
      "outputs": [],
      "source": [
        "# Parameters for X, Y, Z1, Z2, and Z3\n",
        "alpha_X = 0.35\n",
        "beta_X = 3\n",
        "alpha_Y = 0.7\n",
        "beta_Y = 2\n",
        "alpha_Z1 = 0.3\n",
        "beta_Z1 = 1\n",
        "alpha_Z2 = 0.3\n",
        "beta_Z2 = 1\n",
        "alpha_Z3 = 0.3\n",
        "beta_Z3 = 1\n",
        "X_threshold = 1  # Threshold for X to activate Z genes\n",
        "Y_threshold = 4\n",
        "Z1_threshold = 2.3  # Threshold for Y to activate Z1\n",
        "Z2_threshold = 1.8  # Threshold for Y to activate Z2\n",
        "Z3_threshold = 1    # Threshold for Y to activate Z3\n",
        "\n",
        "\n",
        "# Initial conditions\n",
        "X_0 = 0.0\n",
        "Y_0 = 0.0\n",
        "Z1_0 = 0.0\n",
        "Z2_0 = 0.0\n",
        "Z3_0 = 0.0\n",
        "\n",
        "# Time points\n",
        "t = np.linspace(0, 20, 100)\n",
        "\n",
        "# Redefining the system of differential equations with AND logic for Z1, Z2, and Z3\n",
        "\n",
        "def ffl_system_and(conditions, t, alpha_X, beta_X, alpha_Y, beta_Y, alpha_Z1, beta_Z1, alpha_Z2, beta_Z2, alpha_Z3, beta_Z3, X_threshold, Y_threshold, Z1_threshold, Z2_threshold, Z3_threshold):\n",
        "    X, Y, Z1, Z2, Z3 = conditions\n",
        "\n",
        "    # Equation for X\n",
        "    if t < 6:\n",
        "        dXdt = beta_X - alpha_X * X\n",
        "    else:\n",
        "        dXdt = -alpha_X * X\n",
        "\n",
        "    # Equation for Y\n",
        "    if X > Y_threshold:\n",
        "        dYdt = beta_Y - alpha_Y * Y\n",
        "    else:\n",
        "        dYdt = -alpha_Y * Y\n",
        "\n",
        "    # Equations for Z1, Z2, Z3 using AND logic with different X thresholds\n",
        "    dZ1dt = beta_Z1 - alpha_Z1 * Z1 if (Y > Z1_threshold and X > X_threshold) else -alpha_Z1 * Z1\n",
        "    dZ2dt = beta_Z2 - alpha_Z2 * Z2 if (Y > Z2_threshold and X > X_threshold + 1) else -alpha_Z2 * Z2  # Slightly higher threshold for Z2\n",
        "    dZ3dt = beta_Z3 - alpha_Z3 * Z3 if (Y > Z3_threshold and X > X_threshold + 2) else -alpha_Z3 * Z3  # Even higher threshold for Z3\n",
        "\n",
        "    return [dXdt, dYdt, dZ1dt, dZ2dt, dZ3dt]\n",
        "\n",
        "# Solve the system of ODEs with AND logic\n",
        "conditions_and = odeint(ffl_system_and, [X_0, Y_0, Z1_0, Z2_0, Z3_0], t, args=(alpha_X, beta_X, alpha_Y, beta_Y, alpha_Z1, beta_Z1, alpha_Z2, beta_Z2, alpha_Z3, beta_Z3, X_threshold, Y_threshold, Z1_threshold, Z2_threshold, Z3_threshold))\n",
        "\n",
        "# Extract X, Y, Z1, Z2, and Z3 for AND logic\n",
        "X_and, Y_and, Z1_and, Z2_and, Z3_and = conditions_and.T\n",
        "\n",
        "# Plot results for AND logic\n",
        "plt.figure(figsize=(10, 6))\n",
        "plt.plot(t, X_and, label='X')\n",
        "plt.plot(t, Y_and, label='Y', color='red')\n",
        "plt.plot(t, Z1_and, label='Z1', color='green')\n",
        "plt.plot(t, Z2_and, label='Z2', color='blue')\n",
        "plt.plot(t, Z3_and, label='Z3', color='purple')\n",
        "plt.xlabel('Time')\n",
        "plt.ylabel('Concentration')\n",
        "plt.title('Dynamics of X, Y, and Z1-Z3 over Time in a FFL with LIFO behaviour')\n",
        "plt.grid(True)\n",
        "plt.legend()\n",
        "plt.show()\n",
        "\n"
      ],
      "metadata": {
        "ExecuteTime": {
          "end_time": "2023-12-10T17:02:37.699283Z",
          "start_time": "2023-12-10T17:02:37.601227Z"
        },
        "id": "a241e805e871cfc4"
      },
      "id": "a241e805e871cfc4"
    },
    {
      "cell_type": "markdown",
      "source": [
        "### Simulating a FFL with FIFO behaviour\n",
        "**FIFO (First In, First Out) Temporal Program**, refers to the order in which gene expression is turned off as the level of $X$ decreases."
      ],
      "metadata": {
        "collapsed": false,
        "id": "70ebe466b20fae73"
      },
      "id": "70ebe466b20fae73"
    },
    {
      "cell_type": "code",
      "execution_count": null,
      "outputs": [],
      "source": [
        "# Re-importing necessary libraries\n",
        "import numpy as np\n",
        "from scipy.integrate import odeint\n",
        "import matplotlib.pyplot as plt\n",
        "\n",
        "# Define the system of differential equations\n",
        "def ffl_system(conditions, t, alpha_X, beta_X, alpha_Y, beta_Y, alpha_Z1, beta_Z1, alpha_Z2, beta_Z2, alpha_Z3, beta_Z3, X_threshold, Y_threshold, Z1_threshold, Z2_threshold, Z3_threshold):\n",
        "    X, Y, Z1, Z2, Z3 = conditions\n",
        "\n",
        "    # Equation for X\n",
        "    if t < 6:\n",
        "        dXdt = beta_X - alpha_X * X\n",
        "    else:\n",
        "        dXdt = -alpha_X * X\n",
        "\n",
        "    # Equation for Y\n",
        "    if X > Y_threshold:\n",
        "        dYdt = beta_Y - alpha_Y * Y\n",
        "    else:\n",
        "        dYdt = -alpha_Y * Y\n",
        "\n",
        "    # Equations for Z1, Z2, Z3 using OR logic with different X thresholds\n",
        "    dZ1dt = beta_Z1 - alpha_Z1 * Z1 if (Y > Z1_threshold or X > X_threshold) else -alpha_Z1 * Z1\n",
        "    dZ2dt = beta_Z2 - alpha_Z2 * Z2 if (Y > Z2_threshold or X > X_threshold + 1) else -alpha_Z2 * Z2  # Slightly higher threshold for Z2\n",
        "    dZ3dt = beta_Z3 - alpha_Z3 * Z3 if (Y > Z3_threshold or X > X_threshold + 2) else -alpha_Z3 * Z3  # Even higher threshold for Z3\n",
        "\n",
        "    return [dXdt, dYdt, dZ1dt, dZ2dt, dZ3dt]\n",
        "\n",
        "# Parameters for X, Y, Z1, Z2, and Z3\n",
        "alpha_X = 0.35\n",
        "beta_X = 3\n",
        "alpha_Y = 0.3\n",
        "beta_Y = 3\n",
        "alpha_Z1 = 0.3\n",
        "beta_Z1 = 1\n",
        "alpha_Z2 = 0.3\n",
        "beta_Z2 = 1\n",
        "alpha_Z3 = 0.3\n",
        "beta_Z3 = 1\n",
        "X_threshold = 1  # Threshold for X to activate Z genes\n",
        "Y_threshold = 4\n",
        "Z1_threshold = 2.3  # Threshold for Y to activate Z1\n",
        "Z2_threshold = 1.8  # Threshold for Y to activate Z2\n",
        "Z3_threshold = 1    # Threshold for Y to activate Z3\n",
        "\n",
        "# Initial conditions\n",
        "X_0 = 0.0\n",
        "Y_0 = 0.0\n",
        "Z1_0 = 0.0\n",
        "Z2_0 = 0.0\n",
        "Z3_0 = 0.0\n",
        "\n",
        "# Time points\n",
        "t = np.linspace(0, 20, 100)\n",
        "\n",
        "# Solve the system of ODEs\n",
        "conditions = odeint(ffl_system, [X_0, Y_0, Z1_0, Z2_0, Z3_0], t, args=(alpha_X, beta_X, alpha_Y, beta_Y, alpha_Z1, beta_Z1, alpha_Z2, beta_Z2, alpha_Z3, beta_Z3, X_threshold, Y_threshold, Z1_threshold, Z2_threshold, Z3_threshold))\n",
        "\n",
        "# Extract X, Y, Z1, Z2, and Z3\n",
        "X, Y, Z1, Z2, Z3 = conditions.T\n",
        "\n",
        "# Plot results\n",
        "plt.figure(figsize=(10, 6))\n",
        "plt.plot(t, X, label='X')\n",
        "plt.plot(t, Y, label='Y', color='red')\n",
        "plt.plot(t, Z1, label='Z1', color='green')\n",
        "plt.plot(t, Z2, label='Z2', color='blue')\n",
        "plt.plot(t, Z3, label='Z3', color='purple')\n",
        "plt.xlabel('Time')\n",
        "plt.ylabel('Concentration')\n",
        "plt.title('Dynamics of X, Y, and Z1-Z3 over Time in a FFL with FIFO behaviour')\n",
        "plt.grid(True)\n",
        "plt.legend()\n",
        "plt.show()\n",
        "\n"
      ],
      "metadata": {
        "ExecuteTime": {
          "end_time": "2023-12-10T17:02:24.295504Z",
          "start_time": "2023-12-10T17:02:24.206302Z"
        },
        "id": "2254fbacc0c9abfd"
      },
      "id": "2254fbacc0c9abfd"
    }
  ],
  "metadata": {
    "kernelspec": {
      "display_name": "Python 3",
      "language": "python",
      "name": "python3"
    },
    "language_info": {
      "codemirror_mode": {
        "name": "ipython",
        "version": 2
      },
      "file_extension": ".py",
      "mimetype": "text/x-python",
      "name": "python",
      "nbconvert_exporter": "python",
      "pygments_lexer": "ipython2",
      "version": "2.7.6"
    },
    "colab": {
      "provenance": [],
      "include_colab_link": true
    }
  },
  "nbformat": 4,
  "nbformat_minor": 5
}